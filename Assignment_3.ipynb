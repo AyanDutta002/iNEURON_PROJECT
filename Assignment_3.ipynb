{
 "cells": [
  {
   "cell_type": "raw",
   "id": "8ba02375",
   "metadata": {},
   "source": [
    "1. Why are functions advantageous to have in your programs?\n",
    "use of functions enhances the redability of programs."
   ]
  },
  {
   "cell_type": "raw",
   "id": "5663f9b0",
   "metadata": {},
   "source": [
    "2. When does the code in a function run: when it's specified or when it's called?\n",
    "when called"
   ]
  },
  {
   "cell_type": "raw",
   "id": "8ca9485f",
   "metadata": {},
   "source": [
    "3. What statement creates a function?\n",
    "'def'"
   ]
  },
  {
   "cell_type": "code",
   "execution_count": 1,
   "id": "e19c5614",
   "metadata": {},
   "outputs": [],
   "source": [
    "#example\n",
    "def my_name():\n",
    "    print(\"Ayan Dutta\")"
   ]
  },
  {
   "cell_type": "code",
   "execution_count": 2,
   "id": "dc88d41f",
   "metadata": {},
   "outputs": [
    {
     "name": "stdout",
     "output_type": "stream",
     "text": [
      "Ayan Dutta\n"
     ]
    }
   ],
   "source": [
    "my_name()"
   ]
  },
  {
   "cell_type": "raw",
   "id": "09f96430",
   "metadata": {},
   "source": [
    "4. What is the difference between a function and a function call?\n",
    "function is a procedure for executing certain task, function call is using the function to acheive that certain task"
   ]
  },
  {
   "cell_type": "raw",
   "id": "fb660dae",
   "metadata": {},
   "source": [
    "5.How many global scopes are there in a Python program? How many local scopes?\n",
    "one global and one local"
   ]
  },
  {
   "cell_type": "raw",
   "id": "d87c69c1",
   "metadata": {},
   "source": [
    "6. What happens to variables in a local scope when the function call returns?\n",
    "\n",
    "Local scope gets destroyed"
   ]
  },
  {
   "cell_type": "raw",
   "id": "48fb8992",
   "metadata": {},
   "source": [
    "7. What is the concept of a return value? Is it possible to have a return value in an expression?"
   ]
  },
  {
   "cell_type": "raw",
   "id": "35870eb7",
   "metadata": {},
   "source": [
    "8. If a function does not have a return statement, what is the return value of a call to that function?\n",
    "in that case there is no return value"
   ]
  },
  {
   "cell_type": "raw",
   "id": "ce958806",
   "metadata": {},
   "source": [
    "9.How do you make a function variable refer to the global variable?\n",
    "by using global keyword"
   ]
  },
  {
   "cell_type": "code",
   "execution_count": 6,
   "id": "69db1ea0",
   "metadata": {},
   "outputs": [
    {
     "name": "stdout",
     "output_type": "stream",
     "text": [
      "Ayan\n"
     ]
    }
   ],
   "source": [
    "#example\n",
    "A = \"123\"\n",
    "def my_name():\n",
    "    global A\n",
    "    A = \"Ayan\"\n",
    "my_name()\n",
    "print(A)"
   ]
  },
  {
   "cell_type": "raw",
   "id": "807c47a4",
   "metadata": {},
   "source": [
    "10.. What is the data type of None?\n",
    "NoneType"
   ]
  },
  {
   "cell_type": "raw",
   "id": "67280647",
   "metadata": {},
   "source": [
    "11. What does the sentence import areallyourpetsnamederic do?\n",
    "imports a module called areallyourpetsnamederic"
   ]
  },
  {
   "cell_type": "raw",
   "id": "b718db1e",
   "metadata": {},
   "source": [
    "12. If you had a bacon() feature in a spam module, what would you call it after importing spam?\n",
    "spam.bacon()"
   ]
  },
  {
   "cell_type": "raw",
   "id": "f09b61e0",
   "metadata": {},
   "source": [
    "13. What can you do to save a programme from crashing if it encounters an error?\n",
    "use try clause to find the errors"
   ]
  },
  {
   "cell_type": "raw",
   "id": "02fcf1c5",
   "metadata": {},
   "source": [
    "14. What is the purpose of the try clause? What is the purpose of the except clause?\n",
    "try clause: helps to test a block of codes for errors, except clause: helps to handle the errors"
   ]
  }
 ],
 "metadata": {
  "kernelspec": {
   "display_name": "Python 3",
   "language": "python",
   "name": "python3"
  },
  "language_info": {
   "codemirror_mode": {
    "name": "ipython",
    "version": 3
   },
   "file_extension": ".py",
   "mimetype": "text/x-python",
   "name": "python",
   "nbconvert_exporter": "python",
   "pygments_lexer": "ipython3",
   "version": "3.8.8"
  }
 },
 "nbformat": 4,
 "nbformat_minor": 5
}
