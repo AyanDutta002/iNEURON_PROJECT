{
 "cells": [
  {
   "cell_type": "raw",
   "id": "2add491d",
   "metadata": {},
   "source": [
    "1. What exactly is []?\n",
    "Empty list value"
   ]
  },
  {
   "cell_type": "code",
   "execution_count": 16,
   "id": "09aec818",
   "metadata": {},
   "outputs": [],
   "source": [
    "#2. In a list of values stored in a variable called spam, how would you assign the value 'hello' as the third value? (Assume [2, 4, 6, 8, 10] are in spam.)\n",
    "\n",
    "spam = [2, 4, 6, 8, 10]\n"
   ]
  },
  {
   "cell_type": "code",
   "execution_count": 17,
   "id": "0982f67e",
   "metadata": {},
   "outputs": [],
   "source": [
    "spam.insert(2, 'hello')"
   ]
  },
  {
   "cell_type": "code",
   "execution_count": 18,
   "id": "1c1988aa",
   "metadata": {},
   "outputs": [
    {
     "data": {
      "text/plain": [
       "[2, 4, 'hello', 6, 8, 10]"
      ]
     },
     "execution_count": 18,
     "metadata": {},
     "output_type": "execute_result"
    }
   ],
   "source": [
    "spam"
   ]
  },
  {
   "cell_type": "code",
   "execution_count": 19,
   "id": "7524df05",
   "metadata": {},
   "outputs": [
    {
     "data": {
      "text/plain": [
       "6"
      ]
     },
     "execution_count": 19,
     "metadata": {},
     "output_type": "execute_result"
    }
   ],
   "source": [
    "#3. What is the value of spam[int(int('3' * 2) / 11)]?\n",
    "spam[int(int('3' * 2) / 11)]"
   ]
  },
  {
   "cell_type": "code",
   "execution_count": 21,
   "id": "16a450d7",
   "metadata": {},
   "outputs": [
    {
     "data": {
      "text/plain": [
       "10"
      ]
     },
     "execution_count": 21,
     "metadata": {},
     "output_type": "execute_result"
    }
   ],
   "source": [
    "#4. What is the value of spam[-1]?\n",
    "spam[-1]"
   ]
  },
  {
   "cell_type": "code",
   "execution_count": 22,
   "id": "3d64fa0e",
   "metadata": {},
   "outputs": [
    {
     "data": {
      "text/plain": [
       "[2, 4]"
      ]
     },
     "execution_count": 22,
     "metadata": {},
     "output_type": "execute_result"
    }
   ],
   "source": [
    "#5. What is the value of spam[:2]?\n",
    "spam[:2]"
   ]
  },
  {
   "cell_type": "code",
   "execution_count": 28,
   "id": "8d8b7fcc",
   "metadata": {},
   "outputs": [],
   "source": [
    "bacon = [3.14,'cat',11, 'cat', True]"
   ]
  },
  {
   "cell_type": "code",
   "execution_count": 30,
   "id": "013f5d05",
   "metadata": {},
   "outputs": [
    {
     "data": {
      "text/plain": [
       "1"
      ]
     },
     "execution_count": 30,
     "metadata": {},
     "output_type": "execute_result"
    }
   ],
   "source": [
    "#6. What is the value of bacon.index('cat')?\n",
    "bacon.index('cat')"
   ]
  },
  {
   "cell_type": "code",
   "execution_count": 31,
   "id": "706735ac",
   "metadata": {},
   "outputs": [
    {
     "name": "stdout",
     "output_type": "stream",
     "text": [
      "[3.14, 'cat', 11, 'cat', True, 99]\n"
     ]
    }
   ],
   "source": [
    "#7. How does bacon.append(99) change the look of the list value in bacon?\n",
    "bacon.append(99)\n",
    "print(bacon)"
   ]
  },
  {
   "cell_type": "code",
   "execution_count": 32,
   "id": "c2728dd1",
   "metadata": {},
   "outputs": [
    {
     "name": "stdout",
     "output_type": "stream",
     "text": [
      "[3.14, 11, 'cat', True, 99]\n"
     ]
    }
   ],
   "source": [
    "#8. How does bacon.remove('cat') change the look of the list in bacon?\n",
    "bacon.remove('cat')\n",
    "print(bacon)"
   ]
  },
  {
   "cell_type": "raw",
   "id": "828a6013",
   "metadata": {},
   "source": [
    "#9. What are the list concatenation and list replication operators?\n",
    "concatenation operator is extend(), + operator etc. for replication cloning(), * operator etc."
   ]
  },
  {
   "cell_type": "raw",
   "id": "02447e58",
   "metadata": {},
   "source": [
    "#10. What is difference between the list methods append() and insert()?\n",
    "append adds the value at the end of the list and with insert you can select at which location you will add the element of the list"
   ]
  },
  {
   "cell_type": "code",
   "execution_count": 33,
   "id": "f8c51612",
   "metadata": {},
   "outputs": [],
   "source": [
    "#11. What are the two methods for removing items from a list?"
   ]
  },
  {
   "cell_type": "code",
   "execution_count": 36,
   "id": "e105ee30",
   "metadata": {},
   "outputs": [
    {
     "name": "stdout",
     "output_type": "stream",
     "text": [
      "[3.14, 11, 'cat']\n"
     ]
    }
   ],
   "source": [
    "#method 1\n",
    "bacon.pop()\n",
    "print(bacon)"
   ]
  },
  {
   "cell_type": "code",
   "execution_count": 45,
   "id": "deaa3d62",
   "metadata": {},
   "outputs": [],
   "source": [
    "#method 2\n",
    "bacon = [3.14,'cat',11, 'cat', True]\n",
    "bacon.remove(11)"
   ]
  },
  {
   "cell_type": "code",
   "execution_count": 47,
   "id": "5055f1df",
   "metadata": {},
   "outputs": [
    {
     "data": {
      "text/plain": [
       "[3.14, 'cat', 'cat', True]"
      ]
     },
     "execution_count": 47,
     "metadata": {},
     "output_type": "execute_result"
    }
   ],
   "source": [
    "bacon"
   ]
  },
  {
   "cell_type": "raw",
   "id": "60333354",
   "metadata": {},
   "source": [
    "12. Describe how list values and string values are identical?\n",
    "    1: they both are sequences.\n",
    "    2: they both of them has indexes/ position assigned to them \n",
    "    3: both of them has length, list lenth depends on the number of items present there whereas string length is number of character present in a string"
   ]
  },
  {
   "cell_type": "raw",
   "id": "e56d20aa",
   "metadata": {},
   "source": [
    "13. What's the difference between tuples and lists?\n",
    " lists are mutable, tuples are not, \n",
    " tuples have only two functions which are index and counts, lists have multiple functions."
   ]
  },
  {
   "cell_type": "code",
   "execution_count": 53,
   "id": "ebca5da1",
   "metadata": {},
   "outputs": [
    {
     "data": {
      "text/plain": [
       "tuple"
      ]
     },
     "execution_count": 53,
     "metadata": {},
     "output_type": "execute_result"
    }
   ],
   "source": [
    "#14. How do you type a tuple value that only contains the integer 42?\n",
    "t =(42,)\n",
    "type(t)"
   ]
  },
  {
   "cell_type": "code",
   "execution_count": 56,
   "id": "4e29f4f3",
   "metadata": {},
   "outputs": [
    {
     "data": {
      "text/plain": [
       "tuple"
      ]
     },
     "execution_count": 56,
     "metadata": {},
     "output_type": "execute_result"
    }
   ],
   "source": [
    "#15. How do you get a list value's tuple form? How do you get a tuple value's list form?\n",
    "t = (12,13,14,\"true\",15.5)\n",
    "type (t)"
   ]
  },
  {
   "cell_type": "code",
   "execution_count": 59,
   "id": "0c702d57",
   "metadata": {},
   "outputs": [
    {
     "data": {
      "text/plain": [
       "[12, 13, 14, 'true', 15.5]"
      ]
     },
     "execution_count": 59,
     "metadata": {},
     "output_type": "execute_result"
    }
   ],
   "source": [
    "list(t)\n"
   ]
  },
  {
   "cell_type": "code",
   "execution_count": 61,
   "id": "9fbdce47",
   "metadata": {},
   "outputs": [],
   "source": [
    "l= [13.5,20,\"false\", 2+10j]"
   ]
  },
  {
   "cell_type": "code",
   "execution_count": 63,
   "id": "851f987a",
   "metadata": {},
   "outputs": [
    {
     "data": {
      "text/plain": [
       "(13.5, 20, 'false', (2+10j))"
      ]
     },
     "execution_count": 63,
     "metadata": {},
     "output_type": "execute_result"
    }
   ],
   "source": [
    "tuple(l)"
   ]
  },
  {
   "cell_type": "raw",
   "id": "6ceef047",
   "metadata": {},
   "source": [
    "16. Variables that \"contain\" list values are not necessarily lists themselves. Instead, what do they contain?\n",
    "referance to the list values"
   ]
  },
  {
   "cell_type": "raw",
   "id": "b438d23e",
   "metadata": {},
   "source": [
    "17. How do you distinguish between copy.copy() and copy.deepcopy()?\n",
    "copy.copy() do a shallow copy of a list and copy.deepcpy() will do a deep copy of a list"
   ]
  }
 ],
 "metadata": {
  "kernelspec": {
   "display_name": "Python 3",
   "language": "python",
   "name": "python3"
  },
  "language_info": {
   "codemirror_mode": {
    "name": "ipython",
    "version": 3
   },
   "file_extension": ".py",
   "mimetype": "text/x-python",
   "name": "python",
   "nbconvert_exporter": "python",
   "pygments_lexer": "ipython3",
   "version": "3.8.8"
  }
 },
 "nbformat": 4,
 "nbformat_minor": 5
}
