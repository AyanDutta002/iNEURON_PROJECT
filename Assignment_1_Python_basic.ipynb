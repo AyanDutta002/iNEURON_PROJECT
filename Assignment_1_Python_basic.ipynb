{
 "cells": [
  {
   "cell_type": "raw",
   "id": "31684ab8",
   "metadata": {},
   "source": [
    "Question no :1\n",
    "Values = 'hello', -87.8,6\n",
    "Expressions = *, /, -, \n"
   ]
  },
  {
   "cell_type": "raw",
   "id": "38ad1e62",
   "metadata": {},
   "source": [
    "Question no : 2\n",
    "\"Difference between String and variables are\"\n",
    "String = \"any type of data which consist of letters, like Sun, Moon etc. Including numbers if they are inside the inverted commas\"\n",
    "Variables = \"they are the one where the values (strings, integers, floating points and imaginary numbers etc) are assigned. and can be changed or modified in future based on need\" \n",
    "Example = [\"Ayan\", 20, 30+10j, 50.565]\n",
    "\"The Example in this case is a Variable\""
   ]
  },
  {
   "cell_type": "raw",
   "id": "0599770a",
   "metadata": {},
   "source": [
    "Question No: 3\n",
    "Three Different Data types:\n",
    "String, Integer, List"
   ]
  },
  {
   "cell_type": "raw",
   "id": "f3a35fdd",
   "metadata": {},
   "source": [
    "Question No: 4 \n",
    "Expressions are predefined/built in operators, which will directly give outputs.\n",
    "Example = +,/,- and * are mathametical expressions\n",
    " '=' is a assignment expression. etc."
   ]
  },
  {
   "cell_type": "raw",
   "id": "512f0974",
   "metadata": {},
   "source": [
    "Question No: 5\n",
    "The assignment statement is spam = 10\n",
    "here the statement is 'spam = 10' which means that it is written in python that the value of spam is 10, so every time the spam is written in python it will return the value of 10"
   ]
  },
  {
   "cell_type": "raw",
   "id": "7a0d6e09",
   "metadata": {},
   "source": [
    "Question No 6:\n",
    "variable bacon will contain the integer value 22 and bacon + 1 will be 23\n"
   ]
  },
  {
   "cell_type": "code",
   "execution_count": 21,
   "id": "a33b1e17",
   "metadata": {},
   "outputs": [
    {
     "data": {
      "text/plain": [
       "'spamspamspam'"
      ]
     },
     "execution_count": 21,
     "metadata": {},
     "output_type": "execute_result"
    }
   ],
   "source": [
    "#Question No : 7\n",
    "'spam' + 'spamspam'"
   ]
  },
  {
   "cell_type": "code",
   "execution_count": 22,
   "id": "9193a53d",
   "metadata": {},
   "outputs": [
    {
     "data": {
      "text/plain": [
       "'spamspamspam'"
      ]
     },
     "execution_count": 22,
     "metadata": {},
     "output_type": "execute_result"
    }
   ],
   "source": [
    "#Question No : 7\n",
    "'spam'*3"
   ]
  },
  {
   "cell_type": "raw",
   "id": "16e393ae",
   "metadata": {},
   "source": [
    "Question No:8\n",
    "Variable name will always start with letter or _ not numbers"
   ]
  },
  {
   "cell_type": "raw",
   "id": "166e9767",
   "metadata": {},
   "source": [
    "Question No 9:\n",
    "Intiger : int()\n",
    "Floating : .float()\n",
    "String : str()"
   ]
  },
  {
   "cell_type": "raw",
   "id": "41bf4bbc",
   "metadata": {},
   "source": [
    "Question No: 10\n",
    "its not possible to concatenate the integers and strings, to put them in the same sentence the + operator have to be removed and the entire statement has te be written within \" \", in this case entire statement will be treated as string"
   ]
  },
  {
   "cell_type": "code",
   "execution_count": null,
   "id": "29c143c4",
   "metadata": {},
   "outputs": [],
   "source": []
  }
 ],
 "metadata": {
  "kernelspec": {
   "display_name": "Python 3",
   "language": "python",
   "name": "python3"
  },
  "language_info": {
   "codemirror_mode": {
    "name": "ipython",
    "version": 3
   },
   "file_extension": ".py",
   "mimetype": "text/x-python",
   "name": "python",
   "nbconvert_exporter": "python",
   "pygments_lexer": "ipython3",
   "version": "3.8.8"
  }
 },
 "nbformat": 4,
 "nbformat_minor": 5
}
