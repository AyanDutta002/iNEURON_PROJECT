{
 "cells": [
  {
   "cell_type": "raw",
   "id": "39dde705",
   "metadata": {},
   "source": [
    "1.What are the two values of the Boolean data type? How do you write them?\n",
    "\n",
    "They are True and False, it can be written by \"True\" and \"False\"(Without the \"\")"
   ]
  },
  {
   "cell_type": "raw",
   "id": "acd52850",
   "metadata": {},
   "source": [
    "2.What are the three different types of Boolean operators?\n",
    "And, Or , Not"
   ]
  },
  {
   "cell_type": "raw",
   "id": "5eb38556",
   "metadata": {},
   "source": [
    "3. Make a list of each Boolean operator's truth tables (i.e. every possible combination of Boolean values for the operator and what it evaluate ).\n",
    "True and True is True.\n",
    "False and True is False.\n",
    "True and False is False.\n",
    "False and False is False.\n",
    "True or True is True.\n",
    "False or True is True.\n",
    "True or False is True.\n",
    "False or False is False.\n",
    "not True is False.\n",
    "not False is True."
   ]
  },
  {
   "cell_type": "code",
   "execution_count": 9,
   "id": "30947d5a",
   "metadata": {},
   "outputs": [
    {
     "name": "stdout",
     "output_type": "stream",
     "text": [
      "False\n",
      "False\n",
      "True\n",
      "False\n",
      "False\n",
      "True\n"
     ]
    }
   ],
   "source": [
    "#4.What are the values of the following expressions?\n",
    "l = [(5 > 4) and (3 == 5), not (5 > 4), (5 > 4) or (3 == 5), not ((5 > 4) or (3 == 5)),(True and True) and (True == False),(not False) or (not True)]\n",
    "for i in l:\n",
    "    print(i)"
   ]
  },
  {
   "cell_type": "raw",
   "id": "9fa60f57",
   "metadata": {},
   "source": [
    "5. What are the six comparison operators?\n",
    "==, !=, <, >, <=, >="
   ]
  },
  {
   "cell_type": "raw",
   "id": "d9025be3",
   "metadata": {},
   "source": [
    "6. How do you tell the difference between the equal to and assignment operators?Describe a condition and when you would use one.\n",
    "'=' This is an assignment operator, it is used for assigning a value to a variable.\n",
    "'==' This is Equals to it is used for compating two values if they are equal then it gives true else it shows false.\n"
   ]
  },
  {
   "cell_type": "raw",
   "id": "86b181e7",
   "metadata": {},
   "source": [
    "7. Identify the three blocks in this code:\n",
    "spam = 0 (Block: 1 )\n",
    "if spam == 10:(Block : 2 )\n",
    "print('eggs')\n",
    "if spam > 5: (Block: 3 )\n",
    "print('bacon')\n",
    "else:\n",
    "print('ham')\n",
    "print('spam')\n",
    "print('spam')\n"
   ]
  },
  {
   "cell_type": "raw",
   "id": "1d7f43b7",
   "metadata": {},
   "source": []
  },
  {
   "cell_type": "code",
   "execution_count": 12,
   "id": "95c4a7d3",
   "metadata": {},
   "outputs": [
    {
     "name": "stdout",
     "output_type": "stream",
     "text": [
      "spam value is :4\n",
      "Greetings!\n"
     ]
    }
   ],
   "source": [
    "#8. Write code that prints Hello if 1 is stored in spam, prints Howdy if 2 is stored in spam, and prints Greetings! if anything else is stored in spam.\n",
    "spam = int(input(\"spam value is :\"))\n",
    "if spam==1:\n",
    "    print(\"Hello\")\n",
    "elif spam==2:\n",
    "    print(\"Howdy\")\n",
    "else :\n",
    "    print(\"Greetings!\")"
   ]
  },
  {
   "cell_type": "raw",
   "id": "4fe5ee2f",
   "metadata": {},
   "source": [
    "9.If your programme is stuck in an endless loop, what keys you’ll press?\n",
    "ctrl+c"
   ]
  },
  {
   "cell_type": "raw",
   "id": "bbaed8bc",
   "metadata": {},
   "source": [
    "10. How can you tell the difference between break and continue?\n",
    "Break will break the loop and and will try to come outside the loop, continue will skip a code within a loop and after skipping it will continue from where its left "
   ]
  },
  {
   "cell_type": "raw",
   "id": "ed6658fe",
   "metadata": {},
   "source": [
    "11. In a for loop, what is the difference between range(10), range(0, 10), and range(0, 10, 1)?\n",
    "They all are same in the case of range(10), the program will stop at 10th point while considering 0 as starting number, thus giving result till 9, in the range(0,10) the program will run from 0 to the 10th value considering 0 as the first value and will give result till 9 , and range (0,10,1) there the program will start from 0, with an increament value of 1 and will stop at 9. "
   ]
  },
  {
   "cell_type": "code",
   "execution_count": 13,
   "id": "0d7c28fc",
   "metadata": {},
   "outputs": [
    {
     "name": "stdout",
     "output_type": "stream",
     "text": [
      "0\n",
      "1\n",
      "2\n",
      "3\n",
      "4\n",
      "5\n",
      "6\n",
      "7\n",
      "8\n",
      "9\n",
      "10\n"
     ]
    }
   ],
   "source": [
    "#12. Write a short program that prints the numbers 1 to 10 using a for loop. Then write an equivalent program that prints the numbers 1 to 10 using a while loop.\n",
    "l = range (0,11,1) #for loop\n",
    "for i in l:\n",
    "    print(i)"
   ]
  },
  {
   "cell_type": "code",
   "execution_count": 16,
   "id": "bf75be02",
   "metadata": {},
   "outputs": [
    {
     "name": "stdout",
     "output_type": "stream",
     "text": [
      "1\n",
      "2\n",
      "3\n",
      "4\n",
      "5\n",
      "6\n",
      "7\n",
      "8\n",
      "9\n",
      "10\n"
     ]
    }
   ],
   "source": [
    "#while loop\n",
    "Z = 1\n",
    "while Z<11:\n",
    "    print(Z)\n",
    "    Z= Z+1"
   ]
  },
  {
   "cell_type": "raw",
   "id": "1727b10f",
   "metadata": {},
   "source": [
    "13. If you had a function named bacon() inside a module named spam, how would you call it after importing spam?\n",
    "spam.bacon()"
   ]
  },
  {
   "cell_type": "code",
   "execution_count": null,
   "id": "24698001",
   "metadata": {},
   "outputs": [],
   "source": []
  }
 ],
 "metadata": {
  "kernelspec": {
   "display_name": "Python 3",
   "language": "python",
   "name": "python3"
  },
  "language_info": {
   "codemirror_mode": {
    "name": "ipython",
    "version": 3
   },
   "file_extension": ".py",
   "mimetype": "text/x-python",
   "name": "python",
   "nbconvert_exporter": "python",
   "pygments_lexer": "ipython3",
   "version": "3.8.8"
  }
 },
 "nbformat": 4,
 "nbformat_minor": 5
}
