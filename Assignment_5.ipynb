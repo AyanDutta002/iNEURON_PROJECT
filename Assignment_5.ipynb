{
 "cells": [
  {
   "cell_type": "raw",
   "id": "dc0a395a",
   "metadata": {},
   "source": [
    "1. What does an empty dictionary's code look like?"
   ]
  },
  {
   "cell_type": "code",
   "execution_count": 68,
   "id": "4121b469",
   "metadata": {},
   "outputs": [
    {
     "data": {
      "text/plain": [
       "dict"
      ]
     },
     "execution_count": 68,
     "metadata": {},
     "output_type": "execute_result"
    }
   ],
   "source": [
    "d ={}\n",
    "type(d)"
   ]
  },
  {
   "cell_type": "code",
   "execution_count": 71,
   "id": "0fa9fbea",
   "metadata": {},
   "outputs": [
    {
     "name": "stdout",
     "output_type": "stream",
     "text": [
      "{'foo': 42}\n"
     ]
    }
   ],
   "source": [
    "#2. What is the value of a dictionary value with the key 'foo' and the value 42?\n",
    "d = {'foo':42}\n",
    "print(d)"
   ]
  },
  {
   "cell_type": "raw",
   "id": "4c2a691d",
   "metadata": {},
   "source": [
    "3. What is the most significant distinction between a dictionary and a list?\n",
    "inside dictionary you can create referance key for every elements, in the list stored items are ordered but in dictionary they are unordered"
   ]
  },
  {
   "cell_type": "raw",
   "id": "ddd79cee",
   "metadata": {},
   "source": [
    "4. What happens if you try to access spam['foo'] if spam is {'bar': 100}?\n",
    "KeyError "
   ]
  },
  {
   "cell_type": "code",
   "execution_count": 93,
   "id": "af3ca312",
   "metadata": {},
   "outputs": [],
   "source": [
    "#5. If a dictionary is stored in spam, what is the difference between the expressions 'cat' in spam and 'cat' in spam.keys()?\n",
    "\n",
    "spam={'cat':5+10j}"
   ]
  },
  {
   "cell_type": "code",
   "execution_count": 94,
   "id": "636a1a5f",
   "metadata": {},
   "outputs": [
    {
     "data": {
      "text/plain": [
       "dict_keys(['cat'])"
      ]
     },
     "execution_count": 94,
     "metadata": {},
     "output_type": "execute_result"
    }
   ],
   "source": [
    "spam.keys()#showing the keys that are present in the dictionary"
   ]
  },
  {
   "cell_type": "code",
   "execution_count": 95,
   "id": "43b2bcd9",
   "metadata": {},
   "outputs": [
    {
     "data": {
      "text/plain": [
       "(5+10j)"
      ]
     },
     "execution_count": 95,
     "metadata": {},
     "output_type": "execute_result"
    }
   ],
   "source": [
    "spam['cat']#showing the presence the key "
   ]
  },
  {
   "cell_type": "code",
   "execution_count": 96,
   "id": "6cd06f34",
   "metadata": {},
   "outputs": [
    {
     "data": {
      "text/plain": [
       "dict_values([(5+10j)])"
      ]
     },
     "execution_count": 96,
     "metadata": {},
     "output_type": "execute_result"
    }
   ],
   "source": [
    "#6. If a dictionary is stored in spam, what is the difference between the expressions 'cat' in spam and 'cat' in spam.values()?\n",
    "spam.values()#showing the value associated with the 'cat' key"
   ]
  },
  {
   "cell_type": "code",
   "execution_count": 97,
   "id": "313389cd",
   "metadata": {},
   "outputs": [
    {
     "data": {
      "text/plain": [
       "(5+10j)"
      ]
     },
     "execution_count": 97,
     "metadata": {},
     "output_type": "execute_result"
    }
   ],
   "source": [
    "spam['cat']#showing the presence  the key "
   ]
  },
  {
   "cell_type": "raw",
   "id": "80bbeac6",
   "metadata": {},
   "source": [
    "7. What is a shortcut for the following code\n",
    "if 'color' not in spam:\n",
    "spam['color'] = 'black'\n"
   ]
  },
  {
   "cell_type": "code",
   "execution_count": 100,
   "id": "dea5bdb7",
   "metadata": {},
   "outputs": [
    {
     "data": {
      "text/plain": [
       "'black'"
      ]
     },
     "execution_count": 100,
     "metadata": {},
     "output_type": "execute_result"
    }
   ],
   "source": [
    "spam.setdefault('color','black')"
   ]
  },
  {
   "cell_type": "code",
   "execution_count": 102,
   "id": "af6c196f",
   "metadata": {},
   "outputs": [
    {
     "data": {
      "text/plain": [
       "{'cat': (5+10j), 'color': 'black'}"
      ]
     },
     "execution_count": 102,
     "metadata": {},
     "output_type": "execute_result"
    }
   ],
   "source": [
    "spam"
   ]
  },
  {
   "cell_type": "raw",
   "id": "0e81f453",
   "metadata": {},
   "source": [
    "#8. How do you \"pretty print\" dictionary values using which module and function?\n",
    "pprint.pprint()"
   ]
  }
 ],
 "metadata": {
  "kernelspec": {
   "display_name": "Python 3",
   "language": "python",
   "name": "python3"
  },
  "language_info": {
   "codemirror_mode": {
    "name": "ipython",
    "version": 3
   },
   "file_extension": ".py",
   "mimetype": "text/x-python",
   "name": "python",
   "nbconvert_exporter": "python",
   "pygments_lexer": "ipython3",
   "version": "3.8.8"
  }
 },
 "nbformat": 4,
 "nbformat_minor": 5
}
